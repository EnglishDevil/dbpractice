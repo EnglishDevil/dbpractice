{
 "cells": [
  {
   "cell_type": "code",
   "execution_count": 6,
   "metadata": {},
   "outputs": [
    {
     "name": "stdout",
     "output_type": "stream",
     "text": [
      "<class 'pandas.core.frame.DataFrame'>\n",
      "Index: 0 entries\n",
      "Data columns (total 24 columns):\n",
      "DSS_KEY                        0 non-null object\n",
      "CODE                           0 non-null object\n",
      "NAME                           0 non-null object\n",
      "NATIONAL_GROUPING              0 non-null object\n",
      "HIGH_LEVEL_HEALTH_GEOGRAPHY    0 non-null object\n",
      "ADDRESS_LINE_1                 0 non-null object\n",
      "ADDRESS_LINE_2                 0 non-null object\n",
      "ADDRESS_LINE_3                 0 non-null object\n",
      "ADDRESS_LINE_4                 0 non-null object\n",
      "ADDRESS_LINE_5                 0 non-null object\n",
      "POSTCODE                       0 non-null object\n",
      "OPEN_DATE                      0 non-null object\n",
      "CLOSE_DATE                     0 non-null object\n",
      "STATUS_CODE                    0 non-null object\n",
      "ORGANISATION_SUB_TYPE_CODE     0 non-null object\n",
      "PARENT_ORGANISATION_CODE       0 non-null object\n",
      "JOIN_PARENT_DATE               0 non-null object\n",
      "LEFT_PARENT_DATE               0 non-null object\n",
      "CONTACT_TELEPHONE_NUMBER       0 non-null object\n",
      "CURRENT_CARE_ORGANISATION      0 non-null object\n",
      "DSS_RECORD_START_DATE          0 non-null object\n",
      "DSS_RECORD_END_DATE            0 non-null object\n",
      "DSS_SYSTEM_CREATED_DATE        0 non-null object\n",
      "DSS_SYSTEM_UPDATED_DATE        0 non-null object\n",
      "dtypes: object(24)\n",
      "memory usage: 0.0+ bytes\n"
     ]
    }
   ],
   "source": [
    "#create engine\n",
    "import sqlalchemy as db\n",
    "import urllib\n",
    "params = urllib.parse.quote_plus(\"DRIVER={SQL Server};SERVER=TWINBANJ\\MSSQLSERVERDEV;DATABASE=adamdb\")\n",
    "\n",
    "engine = db.create_engine(\"mssql+pyodbc:///?odbc_connect=%s\" % params)\n",
    "#create connection\n",
    "\n",
    "conn = engine.connect()\n",
    "\n",
    "#create transaction\n",
    "trans = conn.begin()\n",
    "\n",
    "import pandas as pd\n",
    "\n",
    "df = pd.read_csv(r'D:\\NHS SQL learning data\\2019-05-23\\egpcur.csv', header=None)\n",
    "\n",
    "base = pd.read_sql(\"SELECT * FROM ODS_GP_V02\", engine)\n",
    "base.info()\n",
    "\n",
    "#trans.commit()\n",
    "#conn.close()"
   ]
  },
  {
   "cell_type": "code",
   "execution_count": null,
   "metadata": {},
   "outputs": [],
   "source": []
  }
 ],
 "metadata": {
  "kernelspec": {
   "display_name": "Python 3",
   "language": "python",
   "name": "python3"
  },
  "language_info": {
   "codemirror_mode": {
    "name": "ipython",
    "version": 3
   },
   "file_extension": ".py",
   "mimetype": "text/x-python",
   "name": "python",
   "nbconvert_exporter": "python",
   "pygments_lexer": "ipython3",
   "version": "3.7.3"
  }
 },
 "nbformat": 4,
 "nbformat_minor": 2
}

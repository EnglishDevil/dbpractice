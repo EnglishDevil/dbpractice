{
 "cells": [
  {
   "cell_type": "code",
   "execution_count": null,
   "metadata": {},
   "outputs": [],
   "source": []
  },
  {
   "cell_type": "code",
   "execution_count": null,
   "metadata": {},
   "outputs": [],
   "source": [
    "pd.read_sql(\"CREATE TABLE `ODS_GP_V02_new` (id int); /* if not ok: terminate, report error */\n",
    "RENAME TABLE `ODS_GP_V02_new` to `ODS_GP_V02`; /* if ok: terminate, report success */\n",
    "RENAME TABLE `ODS_GP_V02` to `ODS_GP_V02_old`, `ODS_GP_V02_new` to `ODS_GP_V02`;\n",
    "DROP TABLE IF EXISTS `ODS_GP_V02_old`;\", engine)"
   ]
  }
 ],
 "metadata": {
  "kernelspec": {
   "display_name": "Python 3",
   "language": "python",
   "name": "python3"
  },
  "language_info": {
   "codemirror_mode": {
    "name": "ipython",
    "version": 3
   },
   "file_extension": ".py",
   "mimetype": "text/x-python",
   "name": "python",
   "nbconvert_exporter": "python",
   "pygments_lexer": "ipython3",
   "version": "3.7.3"
  }
 },
 "nbformat": 4,
 "nbformat_minor": 2
}

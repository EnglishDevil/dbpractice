{
 "cells": [
  {
   "cell_type": "code",
   "execution_count": 9,
   "metadata": {},
   "outputs": [],
   "source": [
    "import plotly.figure_factory as ff\n",
    "import pandas as pd"
   ]
  },
  {
   "cell_type": "code",
   "execution_count": 29,
   "metadata": {},
   "outputs": [
    {
     "name": "stdout",
     "output_type": "stream",
     "text": [
      "<class 'pandas.core.frame.DataFrame'>\n",
      "Int64Index: 550 entries, 0 to 89\n",
      "Data columns (total 9 columns):\n",
      "category            550 non-null object\n",
      "context             550 non-null object\n",
      "id                  550 non-null int64\n",
      "location            550 non-null object\n",
      "location_subtype    550 non-null object\n",
      "location_type       550 non-null object\n",
      "month               550 non-null object\n",
      "outcome_status      392 non-null object\n",
      "persistent_id       550 non-null object\n",
      "dtypes: int64(1), object(8)\n",
      "memory usage: 43.0+ KB\n"
     ]
    },
    {
     "data": {
      "text/html": [
       "<div>\n",
       "<style scoped>\n",
       "    .dataframe tbody tr th:only-of-type {\n",
       "        vertical-align: middle;\n",
       "    }\n",
       "\n",
       "    .dataframe tbody tr th {\n",
       "        vertical-align: top;\n",
       "    }\n",
       "\n",
       "    .dataframe thead th {\n",
       "        text-align: right;\n",
       "    }\n",
       "</style>\n",
       "<table border=\"1\" class=\"dataframe\">\n",
       "  <thead>\n",
       "    <tr style=\"text-align: right;\">\n",
       "      <th></th>\n",
       "      <th>category</th>\n",
       "      <th>context</th>\n",
       "      <th>id</th>\n",
       "      <th>location</th>\n",
       "      <th>location_subtype</th>\n",
       "      <th>location_type</th>\n",
       "      <th>month</th>\n",
       "      <th>outcome_status</th>\n",
       "      <th>persistent_id</th>\n",
       "    </tr>\n",
       "  </thead>\n",
       "  <tbody>\n",
       "    <tr>\n",
       "      <th>76</th>\n",
       "      <td>violent-crime</td>\n",
       "      <td></td>\n",
       "      <td>77289597</td>\n",
       "      <td>{'latitude': '53.939454', 'street': {'id': 105...</td>\n",
       "      <td></td>\n",
       "      <td>Force</td>\n",
       "      <td>2019-09</td>\n",
       "      <td>{'category': 'Under investigation', 'date': '2...</td>\n",
       "      <td>2029dc6e8b578521dbdc3dfe7618a1df7937288acd1b3c...</td>\n",
       "    </tr>\n",
       "    <tr>\n",
       "      <th>20</th>\n",
       "      <td>anti-social-behaviour</td>\n",
       "      <td></td>\n",
       "      <td>76772554</td>\n",
       "      <td>{'latitude': '53.957438', 'street': {'id': 105...</td>\n",
       "      <td></td>\n",
       "      <td>Force</td>\n",
       "      <td>2019-08</td>\n",
       "      <td>None</td>\n",
       "      <td>f8f3abc9d7f03f5d057e166a12356bc783e5ad9cee68ee...</td>\n",
       "    </tr>\n",
       "    <tr>\n",
       "      <th>7</th>\n",
       "      <td>anti-social-behaviour</td>\n",
       "      <td></td>\n",
       "      <td>75426221</td>\n",
       "      <td>{'latitude': '53.956440', 'street': {'id': 105...</td>\n",
       "      <td></td>\n",
       "      <td>Force</td>\n",
       "      <td>2019-06</td>\n",
       "      <td>None</td>\n",
       "      <td>5279ac420de6c649888485d4b5a7c7f5e0532c02917fe7...</td>\n",
       "    </tr>\n",
       "    <tr>\n",
       "      <th>32</th>\n",
       "      <td>anti-social-behaviour</td>\n",
       "      <td></td>\n",
       "      <td>76765723</td>\n",
       "      <td>{'latitude': '53.959217', 'street': {'id': 105...</td>\n",
       "      <td></td>\n",
       "      <td>Force</td>\n",
       "      <td>2019-08</td>\n",
       "      <td>None</td>\n",
       "      <td>515c87e85d0170e8b74f0ed02deff4d016e7675187e4ed...</td>\n",
       "    </tr>\n",
       "    <tr>\n",
       "      <th>31</th>\n",
       "      <td>anti-social-behaviour</td>\n",
       "      <td></td>\n",
       "      <td>76777117</td>\n",
       "      <td>{'latitude': '53.953203', 'street': {'id': 105...</td>\n",
       "      <td></td>\n",
       "      <td>Force</td>\n",
       "      <td>2019-08</td>\n",
       "      <td>None</td>\n",
       "      <td>cd90ee59ee76b199deb720b07bab6afe353050d8cbc3d8...</td>\n",
       "    </tr>\n",
       "  </tbody>\n",
       "</table>\n",
       "</div>"
      ],
      "text/plain": [
       "                 category context        id  \\\n",
       "76          violent-crime          77289597   \n",
       "20  anti-social-behaviour          76772554   \n",
       "7   anti-social-behaviour          75426221   \n",
       "32  anti-social-behaviour          76765723   \n",
       "31  anti-social-behaviour          76777117   \n",
       "\n",
       "                                             location location_subtype  \\\n",
       "76  {'latitude': '53.939454', 'street': {'id': 105...                    \n",
       "20  {'latitude': '53.957438', 'street': {'id': 105...                    \n",
       "7   {'latitude': '53.956440', 'street': {'id': 105...                    \n",
       "32  {'latitude': '53.959217', 'street': {'id': 105...                    \n",
       "31  {'latitude': '53.953203', 'street': {'id': 105...                    \n",
       "\n",
       "   location_type    month                                     outcome_status  \\\n",
       "76         Force  2019-09  {'category': 'Under investigation', 'date': '2...   \n",
       "20         Force  2019-08                                               None   \n",
       "7          Force  2019-06                                               None   \n",
       "32         Force  2019-08                                               None   \n",
       "31         Force  2019-08                                               None   \n",
       "\n",
       "                                        persistent_id  \n",
       "76  2029dc6e8b578521dbdc3dfe7618a1df7937288acd1b3c...  \n",
       "20  f8f3abc9d7f03f5d057e166a12356bc783e5ad9cee68ee...  \n",
       "7   5279ac420de6c649888485d4b5a7c7f5e0532c02917fe7...  \n",
       "32  515c87e85d0170e8b74f0ed02deff4d016e7675187e4ed...  \n",
       "31  cd90ee59ee76b199deb720b07bab6afe353050d8cbc3d8...  "
      ]
     },
     "execution_count": 29,
     "metadata": {},
     "output_type": "execute_result"
    }
   ],
   "source": [
    "#calls \n",
    "calls = ['https://data.police.uk/api/crimes-street/all-crime?poly=53.933024,%20-1.949214:53.936022,%20-2.049110:54.016624,%20-1.954005:54.009636,%20-2.076643&date=2019-09',\n",
    "         'https://data.police.uk/api/crimes-street/all-crime?poly=53.933024,%20-1.949214:53.936022,%20-2.049110:54.016624,%20-1.954005:54.009636,%20-2.076643&date=2019-08',\n",
    "         'https://data.police.uk/api/crimes-street/all-crime?poly=53.933024,%20-1.949214:53.936022,%20-2.049110:54.016624,%20-1.954005:54.009636,%20-2.076643&date=2019-07',\n",
    "         'https://data.police.uk/api/crimes-street/all-crime?poly=53.933024,%20-1.949214:53.936022,%20-2.049110:54.016624,%20-1.954005:54.009636,%20-2.076643&date=2019-06',\n",
    "         'https://data.police.uk/api/crimes-street/all-crime?poly=53.933024,%20-1.949214:53.936022,%20-2.049110:54.016624,%20-1.954005:54.009636,%20-2.076643&date=2019-05',\n",
    "         'https://data.police.uk/api/crimes-street/all-crime?poly=53.933024,%20-1.949214:53.936022,%20-2.049110:54.016624,%20-1.954005:54.009636,%20-2.076643&date=2019-04']\n",
    "\n",
    "# Create an initial empty data frame\n",
    "df = pd.DataFrame()\n",
    "# Make the consecutive calls\n",
    "for i, call in enumerate(calls):\n",
    "    # Create the new DataFrame from the data you got\n",
    "    df_new = pd.read_json(call, orient='records')\n",
    "    # Merge it with the current data frame\n",
    "    df = pd.concat([df, df_new])\n",
    "    \n",
    "df.info()\n",
    "df.sample(5)\n"
   ]
  },
  {
   "cell_type": "code",
   "execution_count": 45,
   "metadata": {},
   "outputs": [
    {
     "ename": "TypeError",
     "evalue": "string indices must be integers",
     "output_type": "error",
     "traceback": [
      "\u001b[1;31m---------------------------------------------------------------------------\u001b[0m",
      "\u001b[1;31mTypeError\u001b[0m                                 Traceback (most recent call last)",
      "\u001b[1;32m<ipython-input-45-770516595f75>\u001b[0m in \u001b[0;36m<module>\u001b[1;34m\u001b[0m\n\u001b[0;32m      3\u001b[0m \u001b[0mflat\u001b[0m \u001b[1;33m=\u001b[0m \u001b[1;34m'https://data.police.uk/api/crimes-street/all-crime?poly=53.933024,%20-1.949214:53.936022,%20-2.049110:54.016624,%20-1.954005:54.009636,%20-2.076643&date=2019-04'\u001b[0m\u001b[1;33m\u001b[0m\u001b[1;33m\u001b[0m\u001b[0m\n\u001b[0;32m      4\u001b[0m \u001b[1;33m\u001b[0m\u001b[0m\n\u001b[1;32m----> 5\u001b[1;33m \u001b[0mjson_normalize\u001b[0m\u001b[1;33m(\u001b[0m\u001b[0mflat\u001b[0m\u001b[1;33m,\u001b[0m \u001b[1;34m'location'\u001b[0m\u001b[1;33m,\u001b[0m \u001b[1;33m[\u001b[0m\u001b[1;34m'latitude'\u001b[0m\u001b[1;33m,\u001b[0m\u001b[1;34m'longitude'\u001b[0m\u001b[1;33m,\u001b[0m \u001b[1;34m'name'\u001b[0m\u001b[1;33m]\u001b[0m\u001b[1;33m,\u001b[0m \u001b[0merrors\u001b[0m \u001b[1;33m=\u001b[0m \u001b[1;34m'ignore'\u001b[0m\u001b[1;33m)\u001b[0m\u001b[1;33m\u001b[0m\u001b[1;33m\u001b[0m\u001b[0m\n\u001b[0m",
      "\u001b[1;32m~\\Anaconda3\\lib\\site-packages\\pandas\\io\\json\\normalize.py\u001b[0m in \u001b[0;36mjson_normalize\u001b[1;34m(data, record_path, meta, meta_prefix, record_prefix, errors, sep)\u001b[0m\n\u001b[0;32m    265\u001b[0m                 \u001b[0mrecords\u001b[0m\u001b[1;33m.\u001b[0m\u001b[0mextend\u001b[0m\u001b[1;33m(\u001b[0m\u001b[0mrecs\u001b[0m\u001b[1;33m)\u001b[0m\u001b[1;33m\u001b[0m\u001b[1;33m\u001b[0m\u001b[0m\n\u001b[0;32m    266\u001b[0m \u001b[1;33m\u001b[0m\u001b[0m\n\u001b[1;32m--> 267\u001b[1;33m     \u001b[0m_recursive_extract\u001b[0m\u001b[1;33m(\u001b[0m\u001b[0mdata\u001b[0m\u001b[1;33m,\u001b[0m \u001b[0mrecord_path\u001b[0m\u001b[1;33m,\u001b[0m \u001b[1;33m{\u001b[0m\u001b[1;33m}\u001b[0m\u001b[1;33m,\u001b[0m \u001b[0mlevel\u001b[0m\u001b[1;33m=\u001b[0m\u001b[1;36m0\u001b[0m\u001b[1;33m)\u001b[0m\u001b[1;33m\u001b[0m\u001b[1;33m\u001b[0m\u001b[0m\n\u001b[0m\u001b[0;32m    268\u001b[0m \u001b[1;33m\u001b[0m\u001b[0m\n\u001b[0;32m    269\u001b[0m     \u001b[0mresult\u001b[0m \u001b[1;33m=\u001b[0m \u001b[0mDataFrame\u001b[0m\u001b[1;33m(\u001b[0m\u001b[0mrecords\u001b[0m\u001b[1;33m)\u001b[0m\u001b[1;33m\u001b[0m\u001b[1;33m\u001b[0m\u001b[0m\n",
      "\u001b[1;32m~\\Anaconda3\\lib\\site-packages\\pandas\\io\\json\\normalize.py\u001b[0m in \u001b[0;36m_recursive_extract\u001b[1;34m(data, path, seen_meta, level)\u001b[0m\n\u001b[0;32m    242\u001b[0m         \u001b[1;32melse\u001b[0m\u001b[1;33m:\u001b[0m\u001b[1;33m\u001b[0m\u001b[1;33m\u001b[0m\u001b[0m\n\u001b[0;32m    243\u001b[0m             \u001b[1;32mfor\u001b[0m \u001b[0mobj\u001b[0m \u001b[1;32min\u001b[0m \u001b[0mdata\u001b[0m\u001b[1;33m:\u001b[0m\u001b[1;33m\u001b[0m\u001b[1;33m\u001b[0m\u001b[0m\n\u001b[1;32m--> 244\u001b[1;33m                 \u001b[0mrecs\u001b[0m \u001b[1;33m=\u001b[0m \u001b[0m_pull_field\u001b[0m\u001b[1;33m(\u001b[0m\u001b[0mobj\u001b[0m\u001b[1;33m,\u001b[0m \u001b[0mpath\u001b[0m\u001b[1;33m[\u001b[0m\u001b[1;36m0\u001b[0m\u001b[1;33m]\u001b[0m\u001b[1;33m)\u001b[0m\u001b[1;33m\u001b[0m\u001b[1;33m\u001b[0m\u001b[0m\n\u001b[0m\u001b[0;32m    245\u001b[0m \u001b[1;33m\u001b[0m\u001b[0m\n\u001b[0;32m    246\u001b[0m                 \u001b[1;31m# For repeating the metadata later\u001b[0m\u001b[1;33m\u001b[0m\u001b[1;33m\u001b[0m\u001b[1;33m\u001b[0m\u001b[0m\n",
      "\u001b[1;32m~\\Anaconda3\\lib\\site-packages\\pandas\\io\\json\\normalize.py\u001b[0m in \u001b[0;36m_pull_field\u001b[1;34m(js, spec)\u001b[0m\n\u001b[0;32m    187\u001b[0m                 \u001b[0mresult\u001b[0m \u001b[1;33m=\u001b[0m \u001b[0mresult\u001b[0m\u001b[1;33m[\u001b[0m\u001b[0mfield\u001b[0m\u001b[1;33m]\u001b[0m\u001b[1;33m\u001b[0m\u001b[1;33m\u001b[0m\u001b[0m\n\u001b[0;32m    188\u001b[0m         \u001b[1;32melse\u001b[0m\u001b[1;33m:\u001b[0m\u001b[1;33m\u001b[0m\u001b[1;33m\u001b[0m\u001b[0m\n\u001b[1;32m--> 189\u001b[1;33m             \u001b[0mresult\u001b[0m \u001b[1;33m=\u001b[0m \u001b[0mresult\u001b[0m\u001b[1;33m[\u001b[0m\u001b[0mspec\u001b[0m\u001b[1;33m]\u001b[0m\u001b[1;33m\u001b[0m\u001b[1;33m\u001b[0m\u001b[0m\n\u001b[0m\u001b[0;32m    190\u001b[0m \u001b[1;33m\u001b[0m\u001b[0m\n\u001b[0;32m    191\u001b[0m         \u001b[1;32mreturn\u001b[0m \u001b[0mresult\u001b[0m\u001b[1;33m\u001b[0m\u001b[1;33m\u001b[0m\u001b[0m\n",
      "\u001b[1;31mTypeError\u001b[0m: string indices must be integers"
     ]
    }
   ],
   "source": [
    "#attempt to get the nested dictionary to display\n",
    "from pandas.io.json import json_normalize\n",
    "\n",
    "flat = 'https://data.police.uk/api/crimes-street/all-crime?poly=53.933024,%20-1.949214:53.936022,%20-2.049110:54.016624,%20-1.954005:54.009636,%20-2.076643&date=2019-04'\n",
    "\n",
    "json_normalize(flat, 'location', ['latitude','longitude', 'name'])"
   ]
  },
  {
   "cell_type": "code",
   "execution_count": 53,
   "metadata": {},
   "outputs": [
    {
     "ename": "KeyError",
     "evalue": "\"None of [Index(['location'], dtype='object')] are in the [columns]\"",
     "output_type": "error",
     "traceback": [
      "\u001b[1;31m---------------------------------------------------------------------------\u001b[0m",
      "\u001b[1;31mKeyError\u001b[0m                                  Traceback (most recent call last)",
      "\u001b[1;32m<ipython-input-53-9c5421eaf96c>\u001b[0m in \u001b[0;36m<module>\u001b[1;34m\u001b[0m\n\u001b[1;32m----> 1\u001b[1;33m \u001b[0mdftest\u001b[0m \u001b[1;33m=\u001b[0m \u001b[0mdf\u001b[0m\u001b[1;33m[\u001b[0m\u001b[1;33m[\u001b[0m\u001b[1;34m'location'\u001b[0m\u001b[1;33m]\u001b[0m\u001b[1;33m]\u001b[0m\u001b[1;33m\u001b[0m\u001b[1;33m\u001b[0m\u001b[0m\n\u001b[0m\u001b[0;32m      2\u001b[0m \u001b[0mdftest\u001b[0m\u001b[1;33m\u001b[0m\u001b[1;33m\u001b[0m\u001b[0m\n",
      "\u001b[1;32m~\\Anaconda3\\lib\\site-packages\\pandas\\core\\frame.py\u001b[0m in \u001b[0;36m__getitem__\u001b[1;34m(self, key)\u001b[0m\n\u001b[0;32m   2932\u001b[0m                 \u001b[0mkey\u001b[0m \u001b[1;33m=\u001b[0m \u001b[0mlist\u001b[0m\u001b[1;33m(\u001b[0m\u001b[0mkey\u001b[0m\u001b[1;33m)\u001b[0m\u001b[1;33m\u001b[0m\u001b[1;33m\u001b[0m\u001b[0m\n\u001b[0;32m   2933\u001b[0m             indexer = self.loc._convert_to_indexer(key, axis=1,\n\u001b[1;32m-> 2934\u001b[1;33m                                                    raise_missing=True)\n\u001b[0m\u001b[0;32m   2935\u001b[0m \u001b[1;33m\u001b[0m\u001b[0m\n\u001b[0;32m   2936\u001b[0m         \u001b[1;31m# take() does not accept boolean indexers\u001b[0m\u001b[1;33m\u001b[0m\u001b[1;33m\u001b[0m\u001b[1;33m\u001b[0m\u001b[0m\n",
      "\u001b[1;32m~\\Anaconda3\\lib\\site-packages\\pandas\\core\\indexing.py\u001b[0m in \u001b[0;36m_convert_to_indexer\u001b[1;34m(self, obj, axis, is_setter, raise_missing)\u001b[0m\n\u001b[0;32m   1352\u001b[0m                 kwargs = {'raise_missing': True if is_setter else\n\u001b[0;32m   1353\u001b[0m                           raise_missing}\n\u001b[1;32m-> 1354\u001b[1;33m                 \u001b[1;32mreturn\u001b[0m \u001b[0mself\u001b[0m\u001b[1;33m.\u001b[0m\u001b[0m_get_listlike_indexer\u001b[0m\u001b[1;33m(\u001b[0m\u001b[0mobj\u001b[0m\u001b[1;33m,\u001b[0m \u001b[0maxis\u001b[0m\u001b[1;33m,\u001b[0m \u001b[1;33m**\u001b[0m\u001b[0mkwargs\u001b[0m\u001b[1;33m)\u001b[0m\u001b[1;33m[\u001b[0m\u001b[1;36m1\u001b[0m\u001b[1;33m]\u001b[0m\u001b[1;33m\u001b[0m\u001b[1;33m\u001b[0m\u001b[0m\n\u001b[0m\u001b[0;32m   1355\u001b[0m         \u001b[1;32melse\u001b[0m\u001b[1;33m:\u001b[0m\u001b[1;33m\u001b[0m\u001b[1;33m\u001b[0m\u001b[0m\n\u001b[0;32m   1356\u001b[0m             \u001b[1;32mtry\u001b[0m\u001b[1;33m:\u001b[0m\u001b[1;33m\u001b[0m\u001b[1;33m\u001b[0m\u001b[0m\n",
      "\u001b[1;32m~\\Anaconda3\\lib\\site-packages\\pandas\\core\\indexing.py\u001b[0m in \u001b[0;36m_get_listlike_indexer\u001b[1;34m(self, key, axis, raise_missing)\u001b[0m\n\u001b[0;32m   1159\u001b[0m         self._validate_read_indexer(keyarr, indexer,\n\u001b[0;32m   1160\u001b[0m                                     \u001b[0mo\u001b[0m\u001b[1;33m.\u001b[0m\u001b[0m_get_axis_number\u001b[0m\u001b[1;33m(\u001b[0m\u001b[0maxis\u001b[0m\u001b[1;33m)\u001b[0m\u001b[1;33m,\u001b[0m\u001b[1;33m\u001b[0m\u001b[1;33m\u001b[0m\u001b[0m\n\u001b[1;32m-> 1161\u001b[1;33m                                     raise_missing=raise_missing)\n\u001b[0m\u001b[0;32m   1162\u001b[0m         \u001b[1;32mreturn\u001b[0m \u001b[0mkeyarr\u001b[0m\u001b[1;33m,\u001b[0m \u001b[0mindexer\u001b[0m\u001b[1;33m\u001b[0m\u001b[1;33m\u001b[0m\u001b[0m\n\u001b[0;32m   1163\u001b[0m \u001b[1;33m\u001b[0m\u001b[0m\n",
      "\u001b[1;32m~\\Anaconda3\\lib\\site-packages\\pandas\\core\\indexing.py\u001b[0m in \u001b[0;36m_validate_read_indexer\u001b[1;34m(self, key, indexer, axis, raise_missing)\u001b[0m\n\u001b[0;32m   1244\u001b[0m                 raise KeyError(\n\u001b[0;32m   1245\u001b[0m                     u\"None of [{key}] are in the [{axis}]\".format(\n\u001b[1;32m-> 1246\u001b[1;33m                         key=key, axis=self.obj._get_axis_name(axis)))\n\u001b[0m\u001b[0;32m   1247\u001b[0m \u001b[1;33m\u001b[0m\u001b[0m\n\u001b[0;32m   1248\u001b[0m             \u001b[1;31m# We (temporarily) allow for some missing keys with .loc, except in\u001b[0m\u001b[1;33m\u001b[0m\u001b[1;33m\u001b[0m\u001b[1;33m\u001b[0m\u001b[0m\n",
      "\u001b[1;31mKeyError\u001b[0m: \"None of [Index(['location'], dtype='object')] are in the [columns]\""
     ]
    }
   ],
   "source": [
    "#another atempt to view the nested dictionaries\n",
    "dftest = df[['location']]\n",
    "dftest"
   ]
  },
  {
   "cell_type": "markdown",
   "metadata": {},
   "source": [
    "To do list:\n",
    "\n",
    "1) Put the data into github and read the CSV from there so that sam can access it\n",
    "2) make sure the data is fully readable, removing the spaces commas in the thousands. The thousand commas can be removed during the read CSV and the spaces can be removed with a replace function.\n",
    "3) use plotly to make the map\n",
    "\n",
    "call the data from an API\n",
    "Probably can call the location id's from an api as well"
   ]
  }
 ],
 "metadata": {
  "kernelspec": {
   "display_name": "Python 3",
   "language": "python",
   "name": "python3"
  },
  "language_info": {
   "codemirror_mode": {
    "name": "ipython",
    "version": 3
   },
   "file_extension": ".py",
   "mimetype": "text/x-python",
   "name": "python",
   "nbconvert_exporter": "python",
   "pygments_lexer": "ipython3",
   "version": "3.7.3"
  }
 },
 "nbformat": 4,
 "nbformat_minor": 2
}

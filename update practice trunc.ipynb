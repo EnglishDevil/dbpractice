{
 "cells": [
  {
   "cell_type": "code",
   "execution_count": null,
   "metadata": {},
   "outputs": [],
   "source": []
  },
  {
   "cell_type": "code",
   "execution_count": 28,
   "metadata": {},
   "outputs": [
    {
     "name": "stdout",
     "output_type": "stream",
     "text": [
      "<class 'pandas.core.frame.DataFrame'>\n",
      "RangeIndex: 98 entries, 0 to 97\n",
      "Data columns (total 8 columns):\n",
      "Code            98 non-null object\n",
      "Name            98 non-null object\n",
      "Address_1       98 non-null object\n",
      "Address_2       98 non-null object\n",
      "Address_3       69 non-null object\n",
      "Postcode        97 non-null object\n",
      "Date_open       98 non-null int64\n",
      "Phone_number    93 non-null object\n",
      "dtypes: int64(1), object(7)\n",
      "memory usage: 6.2+ KB\n"
     ]
    }
   ],
   "source": [
    "#create engine\n",
    "import sqlalchemy as db\n",
    "import urllib\n",
    "params = urllib.parse.quote_plus(\"DRIVER={SQL Server};SERVER=TWINBANJ\\MSSQLSERVERDEV;DATABASE=adamdb\")\n",
    "\n",
    "engine = db.create_engine(\"mssql+pyodbc:///?odbc_connect=%s\" % params)\n",
    "#create connection\n",
    "\n",
    "conn = engine.connect()\n",
    "\n",
    "#create transaction\n",
    "trans = conn.begin()\n",
    "\n",
    "import pandas as pd\n",
    "\n",
    "\n",
    "col_names = ['CODE', 'NAME', 'NATIONAL_GROUPING', 'HIGH_LEVEL_HEALTH_GEOGRAPHY', 'ADDRESS_LINE_1', 'ADDRESS_LINE_2', 'ADDRESS_LINE_3', 'ADDRESS_LINE_4', \n",
    "             'ADDRESS_LINE_5', 'POSTCODE', 'OPEN_DATE', 'CLOSE_DATE', 'STATUS_CODE', 'ORGANISATION_SUB_TYPE_CODE', 'PARENT_ORGANISATION_CODE', \n",
    "             'JOIN_PARENT_DATE', 'LEFT_PARENT_DATE', 'CONTACT_TELEPHONE_NUMBER', 'CURRENT_CARE_ORGANISATION', 'DSS_RECORD_START_DATE', \n",
    "             'DSS_RECORD_END_DATE', 'DSS_SYSTEM_CREATED_DATE', 'DSS_SYSTEM_UPDATED_DATE']\n",
    "df = pd.read_csv(r'D:\\truncdata1.csv', parse_dates=True)\n",
    "\n",
    "df.info()\n",
    "\n",
    "#trans.commit()\n",
    "#conn.close()"
   ]
  },
  {
   "cell_type": "code",
   "execution_count": 31,
   "metadata": {},
   "outputs": [
    {
     "data": {
      "text/html": [
       "<div>\n",
       "<style scoped>\n",
       "    .dataframe tbody tr th:only-of-type {\n",
       "        vertical-align: middle;\n",
       "    }\n",
       "\n",
       "    .dataframe tbody tr th {\n",
       "        vertical-align: top;\n",
       "    }\n",
       "\n",
       "    .dataframe thead th {\n",
       "        text-align: right;\n",
       "    }\n",
       "</style>\n",
       "<table border=\"1\" class=\"dataframe\">\n",
       "  <thead>\n",
       "    <tr style=\"text-align: right;\">\n",
       "      <th></th>\n",
       "      <th>Code</th>\n",
       "      <th>Name</th>\n",
       "      <th>Address_1</th>\n",
       "      <th>Address_2</th>\n",
       "      <th>Address_3</th>\n",
       "      <th>Postcode</th>\n",
       "      <th>Date_open</th>\n",
       "      <th>Phone_number</th>\n",
       "    </tr>\n",
       "  </thead>\n",
       "  <tbody>\n",
       "    <tr>\n",
       "      <th>0</th>\n",
       "      <td>G0102005</td>\n",
       "      <td>ALLEN EB</td>\n",
       "      <td>FIRCROFT, LONDON ROAD</td>\n",
       "      <td>EGHAM</td>\n",
       "      <td>SURREY</td>\n",
       "      <td>TW20 0BS</td>\n",
       "      <td>1974-04-01</td>\n",
       "      <td>NaN</td>\n",
       "    </tr>\n",
       "    <tr>\n",
       "      <th>1</th>\n",
       "      <td>G0102926</td>\n",
       "      <td>ANDERSON MG</td>\n",
       "      <td>LENSFIELD MEDICAL PRAC.</td>\n",
       "      <td>CAMBRIDGE</td>\n",
       "      <td>CAMBRIDGESHIRE</td>\n",
       "      <td>CB2 1EH</td>\n",
       "      <td>1974-04-01</td>\n",
       "      <td>01223 651020</td>\n",
       "    </tr>\n",
       "    <tr>\n",
       "      <th>2</th>\n",
       "      <td>G0105912</td>\n",
       "      <td>ADLER S</td>\n",
       "      <td>682 FINCHLEY ROAD</td>\n",
       "      <td>LONDON</td>\n",
       "      <td>NaN</td>\n",
       "      <td>NW11 7NP</td>\n",
       "      <td>1974-04-01</td>\n",
       "      <td>020 84559994</td>\n",
       "    </tr>\n",
       "    <tr>\n",
       "      <th>3</th>\n",
       "      <td>G0107031</td>\n",
       "      <td>ATTWOOD DC</td>\n",
       "      <td>GREAT LEVER HEALTH CENTRE</td>\n",
       "      <td>BOLTON</td>\n",
       "      <td>LANCASHIRE</td>\n",
       "      <td>BL3 6RN</td>\n",
       "      <td>1974-04-01</td>\n",
       "      <td>01204 462141</td>\n",
       "    </tr>\n",
       "    <tr>\n",
       "      <th>4</th>\n",
       "      <td>G0107725</td>\n",
       "      <td>ALEXANDER PJ</td>\n",
       "      <td>10 WEST END</td>\n",
       "      <td>HUMBERSIDE</td>\n",
       "      <td>NaN</td>\n",
       "      <td>HU14 3PE</td>\n",
       "      <td>1974-04-01</td>\n",
       "      <td>0482 633570</td>\n",
       "    </tr>\n",
       "  </tbody>\n",
       "</table>\n",
       "</div>"
      ],
      "text/plain": [
       "       Code          Name                  Address_1   Address_2  \\\n",
       "0  G0102005      ALLEN EB      FIRCROFT, LONDON ROAD       EGHAM   \n",
       "1  G0102926   ANDERSON MG    LENSFIELD MEDICAL PRAC.   CAMBRIDGE   \n",
       "2  G0105912       ADLER S          682 FINCHLEY ROAD      LONDON   \n",
       "3  G0107031    ATTWOOD DC  GREAT LEVER HEALTH CENTRE      BOLTON   \n",
       "4  G0107725  ALEXANDER PJ                10 WEST END  HUMBERSIDE   \n",
       "\n",
       "        Address_3  Postcode  Date_open  Phone_number  \n",
       "0          SURREY  TW20 0BS 1974-04-01           NaN  \n",
       "1  CAMBRIDGESHIRE   CB2 1EH 1974-04-01  01223 651020  \n",
       "2             NaN  NW11 7NP 1974-04-01  020 84559994  \n",
       "3      LANCASHIRE   BL3 6RN 1974-04-01  01204 462141  \n",
       "4             NaN  HU14 3PE 1974-04-01   0482 633570  "
      ]
     },
     "execution_count": 31,
     "metadata": {},
     "output_type": "execute_result"
    }
   ],
   "source": [
    "df.head()"
   ]
  },
  {
   "cell_type": "code",
   "execution_count": 30,
   "metadata": {},
   "outputs": [],
   "source": [
    "df['Date_open'] = pd.to_datetime(df['Date_open'], format='%Y%m%d')"
   ]
  },
  {
   "cell_type": "code",
   "execution_count": 32,
   "metadata": {},
   "outputs": [
    {
     "name": "stdout",
     "output_type": "stream",
     "text": [
      "<class 'pandas.core.frame.DataFrame'>\n",
      "RangeIndex: 98 entries, 0 to 97\n",
      "Data columns (total 8 columns):\n",
      "Code            98 non-null object\n",
      "Name            98 non-null object\n",
      "Address_1       98 non-null object\n",
      "Address_2       98 non-null object\n",
      "Address_3       69 non-null object\n",
      "Postcode        97 non-null object\n",
      "Date_open       98 non-null datetime64[ns]\n",
      "Phone_number    93 non-null object\n",
      "dtypes: datetime64[ns](1), object(7)\n",
      "memory usage: 6.2+ KB\n"
     ]
    }
   ],
   "source": [
    "df.info()"
   ]
  },
  {
   "cell_type": "code",
   "execution_count": 34,
   "metadata": {},
   "outputs": [],
   "source": [
    "#df.to_sql(\"truncdata\", con=engine,if_exist=replace)\n",
    "#data is inserted into the server. Now try and do a type two update. May need to replace the origional table with one that has an extra collumn for date updated."
   ]
  },
  {
   "cell_type": "code",
   "execution_count": null,
   "metadata": {},
   "outputs": [],
   "source": []
  }
 ],
 "metadata": {
  "kernelspec": {
   "display_name": "Python 3",
   "language": "python",
   "name": "python3"
  },
  "language_info": {
   "codemirror_mode": {
    "name": "ipython",
    "version": 3
   },
   "file_extension": ".py",
   "mimetype": "text/x-python",
   "name": "python",
   "nbconvert_exporter": "python",
   "pygments_lexer": "ipython3",
   "version": "3.7.3"
  }
 },
 "nbformat": 4,
 "nbformat_minor": 2
}

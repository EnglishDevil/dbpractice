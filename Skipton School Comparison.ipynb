{
 "cells": [
  {
   "cell_type": "markdown",
   "metadata": {},
   "source": [
    " # Skipton School Comparison\n",
    " \n",
    " ## Introduction\n",
    " I want to make an informed decision on school choice for my children. Initially, this will be a comparison of the 4 secondary schools in Skipton using available goverment metrics taken from school-performance.service.gov.uk/compare-schools?for=secondary . I may later compare these schools to other cities where would possibly live in the future, such as Leeds.\n",
    " \n",
    " ### School and metrics to be assesed\n",
    " I will analyse Skipton Girl's High School and Ermysted's Grammar School as they are considered to be the best schools in the town and arguably the best in North Yorkshire. In order to provide comparison I will further compare these with the other schools in Skipton Skipton Academy and Upper Wharfdale School. \n",
    " \n",
    "## Data Import"
   ]
  },
  {
   "cell_type": "code",
   "execution_count": 31,
   "metadata": {},
   "outputs": [],
   "source": [
    "import pandas as pd\n",
    "\n",
    "df = pd.read_csv('https://raw.githubusercontent.com/EnglishDevil/dbpractice/data/815_2019_ks4provisional.csv', usecols=(\"URN\",\"SCHNAME\",\"PTEBACC_95\",\"P8_BANDING\",\"ATT8SCR\"),dtype={'URN': 'S75'})\n",
    "df['URN'] = df['URN'].astype(str)\n"
   ]
  },
  {
   "cell_type": "code",
   "execution_count": 32,
   "metadata": {},
   "outputs": [
    {
     "name": "stdout",
     "output_type": "stream",
     "text": [
      "<class 'pandas.core.frame.DataFrame'>\n",
      "RangeIndex: 75 entries, 0 to 74\n",
      "Data columns (total 5 columns):\n",
      "URN           75 non-null object\n",
      "SCHNAME       72 non-null object\n",
      "ATT8SCR       55 non-null object\n",
      "PTEBACC_95    55 non-null object\n",
      "P8_BANDING    47 non-null object\n",
      "dtypes: object(5)\n",
      "memory usage: 3.1+ KB\n"
     ]
    }
   ],
   "source": [
    "df.info()"
   ]
  },
  {
   "cell_type": "code",
   "execution_count": 29,
   "metadata": {},
   "outputs": [
    {
     "data": {
      "text/html": [
       "<div>\n",
       "<style scoped>\n",
       "    .dataframe tbody tr th:only-of-type {\n",
       "        vertical-align: middle;\n",
       "    }\n",
       "\n",
       "    .dataframe tbody tr th {\n",
       "        vertical-align: top;\n",
       "    }\n",
       "\n",
       "    .dataframe thead th {\n",
       "        text-align: right;\n",
       "    }\n",
       "</style>\n",
       "<table border=\"1\" class=\"dataframe\">\n",
       "  <thead>\n",
       "    <tr style=\"text-align: right;\">\n",
       "      <th></th>\n",
       "      <th>URN</th>\n",
       "      <th>SCHNAME</th>\n",
       "      <th>ATT8SCR</th>\n",
       "      <th>PTEBACC_95</th>\n",
       "      <th>P8_BANDING</th>\n",
       "    </tr>\n",
       "  </thead>\n",
       "  <tbody>\n",
       "    <tr>\n",
       "      <th>15</th>\n",
       "      <td>121716.0</td>\n",
       "      <td>Ermysted's Grammar School</td>\n",
       "      <td>71.4</td>\n",
       "      <td>50.0%</td>\n",
       "      <td>1</td>\n",
       "    </tr>\n",
       "    <tr>\n",
       "      <th>60</th>\n",
       "      <td>141179.0</td>\n",
       "      <td>The Skipton Academy</td>\n",
       "      <td>37.1</td>\n",
       "      <td>6.6%</td>\n",
       "      <td>4</td>\n",
       "    </tr>\n",
       "    <tr>\n",
       "      <th>61</th>\n",
       "      <td>136664.0</td>\n",
       "      <td>Skipton Girls' High School</td>\n",
       "      <td>71.1</td>\n",
       "      <td>77.4%</td>\n",
       "      <td>1</td>\n",
       "    </tr>\n",
       "    <tr>\n",
       "      <th>68</th>\n",
       "      <td>121690.0</td>\n",
       "      <td>Upper Wharfedale School</td>\n",
       "      <td>50.2</td>\n",
       "      <td>6.9%</td>\n",
       "      <td>1</td>\n",
       "    </tr>\n",
       "  </tbody>\n",
       "</table>\n",
       "</div>"
      ],
      "text/plain": [
       "         URN                     SCHNAME ATT8SCR PTEBACC_95 P8_BANDING\n",
       "15  121716.0   Ermysted's Grammar School    71.4      50.0%          1\n",
       "60  141179.0         The Skipton Academy    37.1       6.6%          4\n",
       "61  136664.0  Skipton Girls' High School    71.1      77.4%          1\n",
       "68  121690.0     Upper Wharfedale School    50.2       6.9%          1"
      ]
     },
     "execution_count": 29,
     "metadata": {},
     "output_type": "execute_result"
    }
   ],
   "source": [
    "#need to fix it so the URN column doesnt give a decimal place to the data\n",
    "df.loc[(df['URN'] == \"136664.0\") | (df['URN'] == \"141179.0\") | (df['URN'] == \"121716.0\") | (df['URN'] == \"121690.0\")]"
   ]
  },
  {
   "cell_type": "code",
   "execution_count": 28,
   "metadata": {},
   "outputs": [
    {
     "data": {
      "text/html": [
       "<div>\n",
       "<style scoped>\n",
       "    .dataframe tbody tr th:only-of-type {\n",
       "        vertical-align: middle;\n",
       "    }\n",
       "\n",
       "    .dataframe tbody tr th {\n",
       "        vertical-align: top;\n",
       "    }\n",
       "\n",
       "    .dataframe thead th {\n",
       "        text-align: right;\n",
       "    }\n",
       "</style>\n",
       "<table border=\"1\" class=\"dataframe\">\n",
       "  <thead>\n",
       "    <tr style=\"text-align: right;\">\n",
       "      <th></th>\n",
       "      <th>URN</th>\n",
       "      <th>SCHNAME</th>\n",
       "      <th>ATT8SCR</th>\n",
       "      <th>PTEBACC_95</th>\n",
       "      <th>P8_BANDING</th>\n",
       "    </tr>\n",
       "  </thead>\n",
       "  <tbody>\n",
       "    <tr>\n",
       "      <th>60</th>\n",
       "      <td>141179.0</td>\n",
       "      <td>The Skipton Academy</td>\n",
       "      <td>37.1</td>\n",
       "      <td>6.6%</td>\n",
       "      <td>4</td>\n",
       "    </tr>\n",
       "  </tbody>\n",
       "</table>\n",
       "</div>"
      ],
      "text/plain": [
       "         URN              SCHNAME ATT8SCR PTEBACC_95 P8_BANDING\n",
       "60  141179.0  The Skipton Academy    37.1       6.6%          4"
      ]
     },
     "execution_count": 28,
     "metadata": {},
     "output_type": "execute_result"
    }
   ],
   "source": [
    "df.loc[(df['SCHNAME'] == \"The Skipton Academy\")]"
   ]
  },
  {
   "cell_type": "code",
   "execution_count": null,
   "metadata": {},
   "outputs": [],
   "source": []
  }
 ],
 "metadata": {
  "kernelspec": {
   "display_name": "Python 3",
   "language": "python",
   "name": "python3"
  },
  "language_info": {
   "codemirror_mode": {
    "name": "ipython",
    "version": 3
   },
   "file_extension": ".py",
   "mimetype": "text/x-python",
   "name": "python",
   "nbconvert_exporter": "python",
   "pygments_lexer": "ipython3",
   "version": "3.7.3"
  }
 },
 "nbformat": 4,
 "nbformat_minor": 4
}
